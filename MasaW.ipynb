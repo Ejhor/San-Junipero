{
 "cells": [
  {
   "cell_type": "markdown",
   "metadata": {},
   "source": [
    "<CENTER>\n",
    "    <a href=\"http://opendata.atlas.cern\" class=\"icons\"><img src=\"http://opendata.atlas.cern/DataAndTools/pictures/opendata-top-transblack.png\" style=\"width:40%\"></a>\n",
    "</CENTER>"
   ]
  },
  {
   "cell_type": "markdown",
   "metadata": {},
   "source": [
    "# A more difficult notebook in python\n",
    "\n",
    "### In this notebook you can find a more difficult program that shows further high energy physics (HEP) analysis techniques.\n",
    "\n",
    "##### The following analysis is searching for events where [Z bosons](https://en.wikipedia.org/wiki/W_and_Z_bosons) decay to two leptons of same flavour and opposite charge (to be seen for example in the [Feynman diagram](https://en.wikipedia.org/wiki/Feynman_diagram))."
   ]
  },
  {
   "cell_type": "markdown",
   "metadata": {},
   "source": [
    "<CENTER><img src=\"../images/Z_ElectronPositron.png\" style=\"width:40%\"></CENTER>"
   ]
  },
  {
   "cell_type": "markdown",
   "metadata": {},
   "source": []
  },
  {
   "cell_type": "markdown",
   "metadata": {},
   "source": [
    "First of all - like we did it in the first notebook - ROOT is imported to read the files in the _.root_ data format."
   ]
  },
  {
   "cell_type": "code",
   "execution_count": 1,
   "metadata": {
    "collapsed": false
   },
   "outputs": [
    {
     "data": {
      "application/javascript": [
       "require(['codemirror/mode/clike/clike'], function(Clike) { console.log('ROOTaaS - C++ CodeMirror module loaded'); });"
      ]
     },
     "metadata": {},
     "output_type": "display_data"
    },
    {
     "data": {
      "application/javascript": [
       "IPython.CodeCell.config_defaults.highlight_modes['magic_text/x-c++src'] = {'reg':[/^%%cpp/]};"
      ]
     },
     "metadata": {},
     "output_type": "display_data"
    },
    {
     "name": "stdout",
     "output_type": "stream",
     "text": [
      "Welcome to ROOTaaS 6.06/08\n"
     ]
    }
   ],
   "source": [
    "import ROOT"
   ]
  },
  {
   "cell_type": "markdown",
   "metadata": {},
   "source": [
    "In order to activate the interactive visualisation of the histogram that is later created we can use the JSROOT magic:"
   ]
  },
  {
   "cell_type": "code",
   "execution_count": 2,
   "metadata": {
    "collapsed": true
   },
   "outputs": [],
   "source": [
    "from math import sqrt\n",
    "from math import fabs\n",
    "from math import cos"
   ]
  },
  {
   "cell_type": "code",
   "execution_count": 3,
   "metadata": {
    "collapsed": true
   },
   "outputs": [],
   "source": [
    "##%jsroot on"
   ]
  },
  {
   "cell_type": "markdown",
   "metadata": {},
   "source": [
    "Next we have to open the data that we want to analyze. As described above the data is stored in a _*.root_ file."
   ]
  },
  {
   "cell_type": "code",
   "execution_count": 4,
   "metadata": {
    "collapsed": false
   },
   "outputs": [],
   "source": [
    "#f = ROOT.TFile.Open(\"/home/student/CEVALE2VE-repos-clases/Input/mc_105985.WW.root\")\n",
    "f = ROOT.TFile.Open(\"http://opendata.atlas.cern/release/samples/MC/mc_167740.WenuWithB.root\")\n",
    "#f = ROOT.TFile.Open(\"http://opendata.atlas.cern/release/samples/MC/mc_167741.WenuJetsBVeto.root\")\n",
    "#f = ROOT.TFile.Open(\"http://opendata.atlas.cern/release/samples/MC/mc_167740.mc_167742.WenuNoJetsBVeto.root\")"
   ]
  },
  {
   "cell_type": "markdown",
   "metadata": {},
   "source": [
    "After the data is opened we create a canvas on which we can draw a histogram. If we do not have a canvas we cannot see our histogram at the end. Its name is _Canvas_ and its header is _c_. The two following arguments define the width and the height of the canvas."
   ]
  },
  {
   "cell_type": "code",
   "execution_count": 5,
   "metadata": {
    "collapsed": false
   },
   "outputs": [],
   "source": [
    "canvas = ROOT.TCanvas(\"Canvas\",\"c\",800,600)"
   ]
  },
  {
   "cell_type": "markdown",
   "metadata": {},
   "source": [
    "The next step is to define a tree named _t_ to get the data out of the _.root_ file."
   ]
  },
  {
   "cell_type": "code",
   "execution_count": 6,
   "metadata": {
    "collapsed": true
   },
   "outputs": [],
   "source": [
    "tree = f.Get(\"mini\")"
   ]
  },
  {
   "cell_type": "markdown",
   "metadata": {},
   "source": [
    "Now we define a histogram that will later be placed on this canvas. Its name is _variable_, the header of the histogram is _Mass of the Z boson_, the x axis is named _mass [GeV]_ and the y axis is named _events_. The three following arguments indicate that this histogram contains 30 bins which have a range from 40 to 140."
   ]
  },
  {
   "cell_type": "code",
   "execution_count": 7,
   "metadata": {
    "collapsed": false
   },
   "outputs": [],
   "source": [
    "hist = ROOT.TH1F(\"variable\",\"Mass of the W boson; mass [GeV]; events\",20,0,200)"
   ]
  },
  {
   "cell_type": "markdown",
   "metadata": {},
   "source": [
    "Time to fill our above defined histogram. At first we define some variables and then we loop over the data. We also make some cuts as you can see in the # _comments_."
   ]
  },
  {
   "cell_type": "code",
   "execution_count": 8,
   "metadata": {
    "collapsed": false
   },
   "outputs": [],
   "source": [
    "leadLepton  = ROOT.TLorentzVector()\n",
    "#MET = ROOT.TLorentzVector()\n",
    "\n",
    "for event in tree:\n",
    "    \n",
    "    # Cut #1: Only 2 leptons\n",
    "    if tree.lep_n == 1:\n",
    "        \n",
    "        if tree.lep_pt[0]>25000:\n",
    "            \n",
    "        \n",
    "           if tree.met_et>35000:\n",
    "            \n",
    "                # Let's define one TLorentz vector for each, e.i. two vectors!\n",
    "                leadLepton.SetPtEtaPhiE(tree.lep_pt[0]/1000., tree.lep_eta[0], tree.lep_phi[0], tree.lep_E[0]/1000.)\n",
    "                #MET.SetPtEtaPhiE(tree.met_et/1000., 0, tree.met_phi, tree.met_et/1000.)\n",
    "                #invmass = leadLepton + MET\n",
    "                \n",
    "                Ml=leadLepton.M()\n",
    "                Etl=sqrt(Ml**2+(tree.lep_pt[0]/1000.)**2)\n",
    "                MET=tree.met_et/1000.\n",
    "                Ptl=tree.lep_pt[0]/1000.\n",
    "                DelPhi=fabs(tree.lep_phi[0]-tree.met_phi)\n",
    "            \n",
    "                MWt= sqrt(Ml**2+2*(Etl*MET-Ptl*MET*cos(DelPhi)))\n",
    "                \n",
    "                hist.Fill(MWt)"
   ]
  },
  {
   "cell_type": "markdown",
   "metadata": {},
   "source": [
    "After filling the histogram we want to see the results of the analysis. First we draw the histogram on the canvas and then the canvas on which the histogram lies."
   ]
  },
  {
   "cell_type": "code",
   "execution_count": 9,
   "metadata": {
    "collapsed": true
   },
   "outputs": [],
   "source": [
    "hist.Draw()"
   ]
  },
  {
   "cell_type": "code",
   "execution_count": 10,
   "metadata": {
    "collapsed": false
   },
   "outputs": [
    {
     "data": {
      "image/png": "[encoded data removed]",
      "text/plain": [
       "<IPython.core.display.Image object>"
      ]
     },
     "metadata": {},
     "output_type": "display_data"
    }
   ],
   "source": [
    "canvas.Draw()"
   ]
  },
  {
   "cell_type": "code",
   "execution_count": null,
   "metadata": {
    "collapsed": true
   },
   "outputs": [],
   "source": []
  }
 ],
 "metadata": {
  "kernelspec": {
   "display_name": "Python 2",
   "language": "python",
   "name": "python2"
  },
  "language_info": {
   "codemirror_mode": {
    "name": "ipython",
    "version": 2
   },
   "file_extension": ".py",
   "mimetype": "text/x-python",
   "name": "python",
   "nbconvert_exporter": "python",
   "pygments_lexer": "ipython2",
   "version": "2.7.9"
  }
 },
 "nbformat": 4,
 "nbformat_minor": 2
}
