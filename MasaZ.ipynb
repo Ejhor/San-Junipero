{
 "cells": [
  {
   "cell_type": "markdown",
   "metadata": {},
   "source": [
    "<CENTER>\n",
    "    <a href=\"http://opendata.atlas.cern\" class=\"icons\"><img src=\"../Assets/ATLASOD.gif\" style=\"width:50%\"></a>\n",
    "</CENTER>"
   ]
  },
  {
   "cell_type": "markdown",
   "metadata": {},
   "source": [
    "# A more difficult notebook in python\n",
    "\n",
    "### In this notebook you can find a more difficult program that shows further high energy physics (HEP) analysis techniques.\n",
    "\n",
    "##### The following analysis is searching for events where [Z bosons](https://en.wikipedia.org/wiki/W_and_Z_bosons) decay to two leptons of same flavour and opposite charge (to be seen for example in the [Feynman diagram](https://en.wikipedia.org/wiki/Feynman_diagram))."
   ]
  },
  {
   "cell_type": "markdown",
   "metadata": {},
   "source": [
    "<CENTER><img src=\"../Assets/Z_ElectronPositron.png\" style=\"width:30%\"></CENTER>"
   ]
  },
  {
   "cell_type": "markdown",
   "metadata": {},
   "source": [
    "First of all - like we did it in the first notebook - ROOT is imported to read the files in the _.root_ data format."
   ]
  },
  {
   "cell_type": "code",
   "execution_count": 1,
   "metadata": {
    "collapsed": false
   },
   "outputs": [
    {
     "data": {
      "application/javascript": [
       "IPython.CodeCell.config_defaults.highlight_modes['magic_text/x-c++src'] = {'reg':[/^%%cpp/]};"
      ]
     },
     "metadata": {},
     "output_type": "display_data"
    },
    {
     "name": "stdout",
     "output_type": "stream",
     "text": [
      "Welcome to JupyROOT 6.07/03\n"
     ]
    }
   ],
   "source": [
    "import ROOT"
   ]
  },
  {
   "cell_type": "markdown",
   "metadata": {},
   "source": [
    "In order to activate the interactive visualisation of the histogram that is later created we can use the JSROOT magic:"
   ]
  },
  {
   "cell_type": "code",
   "execution_count": 2,
   "metadata": {
    "collapsed": true
   },
   "outputs": [],
   "source": [
    "##%jsroot on"
   ]
  },
  {
   "cell_type": "markdown",
   "metadata": {},
   "source": [
    "Next we have to open the data that we want to analyze. As described above the data is stored in a _*.root_ file."
   ]
  },
  {
   "cell_type": "code",
   "execution_count": 3,
   "metadata": {
    "collapsed": false
   },
   "outputs": [],
   "source": [
    "#f = ROOT.TFile.Open(\"http://opendata.atlas.cern/release/samples/MC/mc_147770.Zee.root\")\n",
    "#f = ROOT.TFile.Open(\"/home/student/CEVALE2VE-repos-clases/Input/mc_105986.ZZ.root\")\n",
    "f = ROOT.TFile.Open(\"http://opendata.atlas.cern/release/samples/MC/mc_105986.ZZ.root\")\n",
    "## f = ROOT.TFile.Open(\"http://opendata.atlas.cern/release/samples/MC/mc_147770.Zee.root\")"
   ]
  },
  {
   "cell_type": "markdown",
   "metadata": {},
   "source": [
    "After the data is opened we create a canvas on which we can draw a histogram. If we do not have a canvas we cannot see our histogram at the end. Its name is _Canvas_ and its header is _c_. The two following arguments define the width and the height of the canvas."
   ]
  },
  {
   "cell_type": "code",
   "execution_count": 4,
   "metadata": {
    "collapsed": true
   },
   "outputs": [],
   "source": [
    "canvas = ROOT.TCanvas(\"Canvas\",\"c\",800,600)"
   ]
  },
  {
   "cell_type": "markdown",
   "metadata": {},
   "source": [
    "The next step is to define a tree named _t_ to get the data out of the _.root_ file."
   ]
  },
  {
   "cell_type": "code",
   "execution_count": 5,
   "metadata": {
    "collapsed": true
   },
   "outputs": [],
   "source": [
    "tree = f.Get(\"mini\")"
   ]
  },
  {
   "cell_type": "markdown",
   "metadata": {},
   "source": [
    "Now we define a histogram that will later be placed on this canvas. Its name is _variable_, the header of the histogram is _Mass of the Z boson_, the x axis is named _mass [GeV]_ and the y axis is named _events_. The three following arguments indicate that this histogram contains 30 bins which have a range from 40 to 140."
   ]
  },
  {
   "cell_type": "code",
   "execution_count": 6,
   "metadata": {
    "collapsed": false
   },
   "outputs": [],
   "source": [
    "hist = ROOT.TH1F(\"variable\",\"Mass of the Z boson; mass [GeV]; events\",30,40,140)"
   ]
  },
  {
   "cell_type": "markdown",
   "metadata": {},
   "source": [
    "Time to fill our above defined histogram. At first we define some variables and then we loop over the data. We also make some cuts as you can see in the # _comments_."
   ]
  },
  {
   "cell_type": "code",
   "execution_count": 7,
   "metadata": {
    "collapsed": true
   },
   "outputs": [],
   "source": [
    "leadLepton  = ROOT.TLorentzVector()\n",
    "trailLepton = ROOT.TLorentzVector()\n",
    "\n",
    "for event in tree:\n",
    "    \n",
    "    # Cut #1: 2 leptons\n",
    "    if tree.lep_n == 2:\n",
    "        \n",
    "        # Cut #2: Leptons with opposite charge\n",
    "        if (tree.lep_charge[0] != tree.lep_charge[1]):\n",
    "            \n",
    "            # Cut #3: Leptons of the same family (2 electrons or 2 muons)\n",
    "            if (tree.lep_type[0] == tree.lep_type[1]):\n",
    "                \n",
    "                # Let's define one TLorentz vector for each, e.i. two vectors!\n",
    "                leadLepton.SetPtEtaPhiE(tree.lep_pt[0]/1000., tree.lep_eta[0], tree.lep_phi[0], tree.lep_E[0]/1000.)\n",
    "                trailLepton.SetPtEtaPhiE(tree.lep_pt[1]/1000., tree.lep_eta[1], tree.lep_phi[1], tree.lep_E[1]/1000.)\n",
    "                # Next line: addition of two TLorentz vectors above --> ask mass very easy (devide by 1000 to get value in GeV)\n",
    "                invmass = leadLepton + trailLepton\n",
    "                \n",
    "                hist.Fill(invmass.M())"
   ]
  },
  {
   "cell_type": "markdown",
   "metadata": {},
   "source": [
    "After filling the histogram we want to see the results of the analysis. First we draw the histogram on the canvas and then the canvas on which the histogram lies."
   ]
  },
  {
   "cell_type": "code",
   "execution_count": 8,
   "metadata": {
    "collapsed": true
   },
   "outputs": [],
   "source": [
    "hist.Draw()"
   ]
  },
  {
   "cell_type": "code",
   "execution_count": 9,
   "metadata": {
    "collapsed": false,
    "scrolled": false
   },
   "outputs": [
    {
     "data": {
      "image/png": "[encoded data removed]",
      "text/plain": [
       "<IPython.core.display.Image object>"
      ]
     },
     "metadata": {},
     "output_type": "display_data"
    }
   ],
   "source": [
    "canvas.Draw()"
   ]
  },
  {
   "cell_type": "markdown",
   "metadata": {},
   "source": [
    "# El número de leptones es “mayor que uno” (distinto de decir “igual a 2”)"
   ]
  },
  {
   "cell_type": "code",
   "execution_count": 10,
   "metadata": {
    "collapsed": true
   },
   "outputs": [],
   "source": [
    "c1 = ROOT.TCanvas(\"Canvas1\",\"c\",800,600)\n",
    "h1 = ROOT.TH1F(\"variable1\",\"Mass of the Z boson; mass [GeV]; events\",30,40,140)"
   ]
  },
  {
   "cell_type": "code",
   "execution_count": 11,
   "metadata": {
    "collapsed": true
   },
   "outputs": [],
   "source": [
    "leadLepton1  = ROOT.TLorentzVector()\n",
    "trailLepton1 = ROOT.TLorentzVector()\n",
    "\n",
    "for event in tree:\n",
    "    \n",
    "    # Cut #1: At least 2 leptons\n",
    "    if tree.lep_n > 1:\n",
    "        \n",
    "        # Cut #2: Leptons with opposite charge\n",
    "        if (tree.lep_charge[0] != tree.lep_charge[1]):\n",
    "            \n",
    "            # Cut #3: Leptons of the same family (2 electrons or 2 muons)\n",
    "            if (tree.lep_type[0] == tree.lep_type[1]):\n",
    "                \n",
    "                # Let's define one TLorentz vector for each, e.i. two vectors!\n",
    "                leadLepton1.SetPtEtaPhiE(tree.lep_pt[0]/1000., tree.lep_eta[0], tree.lep_phi[0], tree.lep_E[0]/1000.)\n",
    "                trailLepton1.SetPtEtaPhiE(tree.lep_pt[1]/1000., tree.lep_eta[1], tree.lep_phi[1], tree.lep_E[1]/1000.)\n",
    "                # Next line: addition of two TLorentz vectors above --> ask mass very easy (devide by 1000 to get value in GeV)\n",
    "                invmass1 = leadLepton1 + trailLepton1\n",
    "                \n",
    "                h1.Fill(invmass1.M())"
   ]
  },
  {
   "cell_type": "code",
   "execution_count": 12,
   "metadata": {
    "collapsed": false,
    "scrolled": false
   },
   "outputs": [
    {
     "data": {
      "image/png": "[encoded data removed]",
      "text/plain": [
       "<IPython.core.display.Image object>"
      ]
     },
     "metadata": {},
     "output_type": "display_data"
    }
   ],
   "source": [
    "h1.Draw()\n",
    "c1.Draw() "
   ]
  },
  {
   "cell_type": "markdown",
   "metadata": {},
   "source": [
    "# Cuando el pt del segundo lepton es solo 10% menos que el del leptón más energético (aquel en [0])"
   ]
  },
  {
   "cell_type": "code",
   "execution_count": 13,
   "metadata": {
    "collapsed": false
   },
   "outputs": [],
   "source": [
    "c2 = ROOT.TCanvas(\"Canvas2\",\"c\",800,600)\n",
    "h2 = ROOT.TH1F(\"variable2\",\"Mass of the Z boson; mass [GeV]; events\",30,40,140)"
   ]
  },
  {
   "cell_type": "code",
   "execution_count": 14,
   "metadata": {
    "collapsed": false
   },
   "outputs": [],
   "source": [
    "leadLepton2  = ROOT.TLorentzVector()\n",
    "trailLepton2 = ROOT.TLorentzVector()\n",
    "\n",
    "for event in tree:\n",
    "    \n",
    "    # Cut #1: 2 leptons\n",
    "    if tree.lep_n == 2:\n",
    "        \n",
    "        # Cut #2: Leptons with opposite charge\n",
    "        if (tree.lep_charge[0] != tree.lep_charge[1]):\n",
    "            \n",
    "            # Cut #3: Leptons of the same family (2 electrons or 2 muons)\n",
    "            if (tree.lep_type[0] == tree.lep_type[1]):\n",
    "                \n",
    "                # Cut #4: pt del segundo lepton es solo 10% menos que el del leptón más energético\n",
    "                if (tree.lep_pt[1] > 0.9 * tree.lep_pt[0]):\n",
    "                \n",
    "                    # Let's define one TLorentz vector for each, e.i. two vectors!\n",
    "                    leadLepton2.SetPtEtaPhiE(tree.lep_pt[0]/1000., tree.lep_eta[0], tree.lep_phi[0], tree.lep_E[0]/1000.)\n",
    "                    trailLepton2.SetPtEtaPhiE(tree.lep_pt[1]/1000., tree.lep_eta[1], tree.lep_phi[1], tree.lep_E[1]/1000.)\n",
    "                    # Next line: addition of two TLorentz vectors above --> ask mass very easy (devide by 1000 to get value in GeV)\n",
    "                    invmass2 = leadLepton2 + trailLepton2\n",
    "                \n",
    "                    h2.Fill(invmass2.M())"
   ]
  },
  {
   "cell_type": "code",
   "execution_count": 15,
   "metadata": {
    "collapsed": false
   },
   "outputs": [
    {
     "data": {
      "image/png": "[encoded data removed]",
      "text/plain": [
       "<IPython.core.display.Image object>"
      ]
     },
     "metadata": {},
     "output_type": "display_data"
    }
   ],
   "source": [
    "h2.Draw()\n",
    "c2.Draw() "
   ]
  },
  {
   "cell_type": "markdown",
   "metadata": {},
   "source": [
    "# Cuando el valor absoluto del ángulo eta de los leptones estudiados es < 2"
   ]
  },
  {
   "cell_type": "code",
   "execution_count": 16,
   "metadata": {
    "collapsed": true
   },
   "outputs": [],
   "source": [
    "from math import fabs"
   ]
  },
  {
   "cell_type": "code",
   "execution_count": 17,
   "metadata": {
    "collapsed": false
   },
   "outputs": [],
   "source": [
    "c3 = ROOT.TCanvas(\"Canvas3\",\"c\",800,600)\n",
    "h3 = ROOT.TH1F(\"variable3\",\"Mass of the Z boson; mass [GeV]; events\",30,40,140)"
   ]
  },
  {
   "cell_type": "code",
   "execution_count": 18,
   "metadata": {
    "collapsed": false
   },
   "outputs": [],
   "source": [
    "leadLepton3  = ROOT.TLorentzVector()\n",
    "trailLepton3 = ROOT.TLorentzVector()\n",
    "\n",
    "for event in tree:\n",
    "    \n",
    "    # Cut #1: 2 leptons\n",
    "    if tree.lep_n == 2:\n",
    "        \n",
    "        # Cut #2: Leptons with opposite charge\n",
    "        if (tree.lep_charge[0] != tree.lep_charge[1]):\n",
    "            \n",
    "            # Cut #3: Leptons of the same family (2 electrons or 2 muons)\n",
    "            if (tree.lep_type[1] == tree.lep_type[0]):\n",
    "                \n",
    "                #Cut #4: valor absoluto del ángulo eta de los leptones estudiados es < 2\n",
    "                if (fabs(tree.lep_eta[0]) < 2 and fabs(tree.lep_eta[1]) < 2):\n",
    "                \n",
    "                    # Let's define one TLorentz vector for each, e.i. two vectors!\n",
    "                    leadLepton3.SetPtEtaPhiE(tree.lep_pt[0]/1000., tree.lep_eta[0], tree.lep_phi[0], tree.lep_E[0]/1000.)\n",
    "                    trailLepton3.SetPtEtaPhiE(tree.lep_pt[1]/1000., tree.lep_eta[1], tree.lep_phi[1], tree.lep_E[1]/1000.)\n",
    "                    # Next line: addition of two TLorentz vectors above --> ask mass very easy (devide by 1000 to get value in GeV)\n",
    "                    invmass3 = leadLepton3 + trailLepton3\n",
    "                \n",
    "                    h3.Fill(invmass3.M())"
   ]
  },
  {
   "cell_type": "code",
   "execution_count": 19,
   "metadata": {
    "collapsed": false
   },
   "outputs": [
    {
     "data": {
      "image/png": "[encoded data removed]",
      "text/plain": [
       "<IPython.core.display.Image object>"
      ]
     },
     "metadata": {},
     "output_type": "display_data"
    }
   ],
   "source": [
    "h3.Draw()\n",
    "c3.Draw() "
   ]
  },
  {
   "cell_type": "markdown",
   "metadata": {},
   "source": [
    "# Cuando el valor absoluto del ángulo eta de los leptones estudiados es > 2"
   ]
  },
  {
   "cell_type": "code",
   "execution_count": 20,
   "metadata": {
    "collapsed": false,
    "scrolled": true
   },
   "outputs": [],
   "source": [
    "c4 = ROOT.TCanvas(\"Canvas4\",\"c\",800,600)\n",
    "h4 = ROOT.TH1F(\"variable4\",\"Mass of the Z boson; mass [GeV]; events\",30,40,140)"
   ]
  },
  {
   "cell_type": "code",
   "execution_count": 23,
   "metadata": {
    "collapsed": true
   },
   "outputs": [],
   "source": [
    "leadLepton4  = ROOT.TLorentzVector()\n",
    "trailLepton4 = ROOT.TLorentzVector()\n",
    "\n",
    "for event in tree:\n",
    "    \n",
    "    # Cut #1: 2 leptons\n",
    "    if tree.lep_n == 2:\n",
    "        \n",
    "        # Cut #2: Leptons with opposite charge\n",
    "        if (tree.lep_charge[0] != tree.lep_charge[1]):\n",
    "            \n",
    "            # Cut #3: Leptons of the same family (2 electrons or 2 muons)\n",
    "            if (tree.lep_type[1] == tree.lep_type[0]):\n",
    "                \n",
    "                #Cut #4: valor absoluto del ángulo eta de los leptones estudiados es > 2\n",
    "                if (fabs(tree.lep_eta[0]) > 2 and fabs(tree.lep_eta[1]) > 2):\n",
    "                \n",
    "                    # Let's define one TLorentz vector for each, e.i. two vectors!\n",
    "                    leadLepton4.SetPtEtaPhiE(tree.lep_pt[0]/1000., tree.lep_eta[0], tree.lep_phi[0], tree.lep_E[0]/1000.)\n",
    "                    trailLepton4.SetPtEtaPhiE(tree.lep_pt[1]/1000., tree.lep_eta[1], tree.lep_phi[1], tree.lep_E[1]/1000.)\n",
    "                    # Next line: addition of two TLorentz vectors above --> ask mass very easy (devide by 1000 to get value in GeV)\n",
    "                    invmass4 = leadLepton4 + trailLepton4\n",
    "                \n",
    "                    h4.Fill(invmass4.M())\n",
    "                                   "
   ]
  },
  {
   "cell_type": "code",
   "execution_count": 24,
   "metadata": {
    "collapsed": false
   },
   "outputs": [
    {
     "data": {
      "image/png": "[encoded data removed]",
      "text/plain": [
       "<IPython.core.display.Image object>"
      ]
     },
     "metadata": {},
     "output_type": "display_data"
    }
   ],
   "source": [
    "h4.Draw()\n",
    "c4.Draw() "
   ]
  },
  {
   "cell_type": "code",
   "execution_count": null,
   "metadata": {
    "collapsed": true
   },
   "outputs": [],
   "source": [
    "#ROOT.enableJSVis()\n",
    "#canvas.Draw()\n",
    "#ROOT.disableJSVis() "
   ]
  },
  {
   "cell_type": "code",
   "execution_count": null,
   "metadata": {
    "collapsed": true
   },
   "outputs": [],
   "source": [
    "#%%cpp\n",
    "#variable->Fit(\"gaus\", \"S\");\n",
    "#Canvas->Draw();"
   ]
  },
  {
   "cell_type": "code",
   "execution_count": null,
   "metadata": {
    "collapsed": true
   },
   "outputs": [],
   "source": [
    "#scale = hist.Integral()\n",
    "#hist.Scale(1/scale)"
   ]
  },
  {
   "cell_type": "code",
   "execution_count": null,
   "metadata": {
    "collapsed": true
   },
   "outputs": [],
   "source": []
  },
  {
   "cell_type": "code",
   "execution_count": null,
   "metadata": {
    "collapsed": true
   },
   "outputs": [],
   "source": []
  }
 ],
 "metadata": {
  "kernelspec": {
   "display_name": "Python 2",
   "language": "python",
   "name": "python2"
  },
  "language_info": {
   "codemirror_mode": {
    "name": "ipython",
    "version": 2
   },
   "file_extension": ".py",
   "mimetype": "text/x-python",
   "name": "python",
   "nbconvert_exporter": "python",
   "pygments_lexer": "ipython2",
   "version": "2.7.13"
  }
 },
 "nbformat": 4,
 "nbformat_minor": 2
}
